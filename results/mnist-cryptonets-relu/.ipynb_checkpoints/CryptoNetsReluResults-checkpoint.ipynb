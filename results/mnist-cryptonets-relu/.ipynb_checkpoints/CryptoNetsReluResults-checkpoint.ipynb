{
 "cells": [
  {
   "cell_type": "code",
   "execution_count": 5,
   "metadata": {},
   "outputs": [],
   "source": [
    "import numpy as np\n",
    "import matplotlib.pyplot as plt\n",
    "from matplotlib.ticker import ScalarFormatter\n",
    "from datetime import datetime\n",
    "import re\n",
    "\n",
    "%matplotlib inline"
   ]
  },
  {
   "cell_type": "code",
   "execution_count": 6,
   "metadata": {},
   "outputs": [],
   "source": [
    "def parse_results(file_name):\n",
    "\n",
    "    re_time = r'.*Total time (.*) \\(ms\\)'\n",
    "    \n",
    "    runtime = None\n",
    "    with open(file_name) as f:\n",
    "        lines = [line.strip() for line in f.readlines()]\n",
    "        for line in lines:\n",
    "            #print(line)\n",
    "            if re.match(re_time, line):\n",
    "                match = re.match(re_time, line)\n",
    "                runtime = float(match.groups()[0])\n",
    "                \n",
    "    if runtime is None:\n",
    "        print('could not find runtime in ', file_name)\n",
    "    assert(runtime is not None)\n",
    "    \n",
    "    return runtime\n"
   ]
  },
  {
   "cell_type": "code",
   "execution_count": 8,
   "metadata": {},
   "outputs": [
    {
     "name": "stdout",
     "output_type": "stream",
     "text": [
      "omp1_times\n",
      "2.29 & $2.35 \\pm 0.04$ \\tabularnewline\n",
      "omp1_complex_times\n",
      "1.35 & $2.76 \\pm 0.06$ \\tabularnewline\n",
      "best_times\n",
      "0.35 & $0.72 \\pm 0.08$ \\tabularnewline\n",
      "omp32_times\n",
      "0.26 & $0.54 \\pm 0.07$ \\tabularnewline\n"
     ]
    }
   ],
   "source": [
    "folder = './results/'\n",
    "best_times = []\n",
    "omp1_complex_times = []\n",
    "omp1_times = []\n",
    "\n",
    "omp32_times = []\n",
    "\n",
    "\n",
    "for i in range(1,11):\n",
    "    filename = folder + 'nt_32_' + str(i) + '.txt'\n",
    "    times = parse_results(filename)\n",
    "    omp32_times.append(times)\n",
    "\n",
    "\n",
    "for i in range(1,11):\n",
    "    best_file = folder + 'best_' + str(i) + '.txt'\n",
    "    best_time = parse_results(best_file)\n",
    "    best_times.append(best_time)\n",
    "    \n",
    "for i in range(1,11):   \n",
    "    omp1_complex_file = folder + 'omp1_complex_' + str(i) + '.txt'\n",
    "    omp1_complex_time = parse_results(omp1_complex_file)\n",
    "    omp1_complex_times.append(omp1_complex_time)\n",
    "    \n",
    "for i in range(1,11):\n",
    "    omp1_file = folder + 'omp1_' + str(i) + '.txt'\n",
    "    omp1_time = parse_results(omp1_file)\n",
    "    omp1_times.append(omp1_time)\n",
    "        \n",
    "    \n",
    "def fmt_line(times, batch_size):\n",
    "    times_sec = [time / 1000. for time in times]\n",
    "    amortized_time_ms = np.round(np.mean(times) / batch_size, 2)\n",
    "    \n",
    "    ret = str(amortized_time_ms) + ' & '\n",
    "    ret += '$' +str(np.round(np.mean(times_sec), 2)) + ' \\pm ' + str(np.round(np.std(times_sec), 2)) + '$ \\\\tabularnewline'\n",
    "    return ret\n",
    "\n",
    "print('omp1_times')\n",
    "print(fmt_line(omp1_times, 1024))\n",
    "              \n",
    "print('omp1_complex_times')\n",
    "print(fmt_line(omp1_complex_times, 2048))\n",
    "\n",
    "print('best_times')\n",
    "print(fmt_line(best_times, 2048))\n",
    "\n",
    "print('omp32_times')\n",
    "print(fmt_line(omp32_times, 2048))\n"
   ]
  },
  {
   "cell_type": "code",
   "execution_count": 29,
   "metadata": {},
   "outputs": [],
   "source": [
    "def make_table(best_times, omp1_times, naive_times):\n",
    "    return"
   ]
  },
  {
   "cell_type": "code",
   "execution_count": 24,
   "metadata": {},
   "outputs": [],
   "source": [
    "for i in range(1,11):\n",
    "    omp1_file = folder + 'omp1_' + str(i) + '.txt'\n",
    "    omp1_time = parse_results(omp1_file)\n",
    "    omp1_times.append(omp1_time)"
   ]
  },
  {
   "cell_type": "code",
   "execution_count": null,
   "metadata": {},
   "outputs": [],
   "source": []
  }
 ],
 "metadata": {
  "kernelspec": {
   "display_name": "Python 3",
   "language": "python",
   "name": "python3"
  },
  "language_info": {
   "codemirror_mode": {
    "name": "ipython",
    "version": 3
   },
   "file_extension": ".py",
   "mimetype": "text/x-python",
   "name": "python",
   "nbconvert_exporter": "python",
   "pygments_lexer": "ipython3",
   "version": "3.7.2"
  }
 },
 "nbformat": 4,
 "nbformat_minor": 2
}

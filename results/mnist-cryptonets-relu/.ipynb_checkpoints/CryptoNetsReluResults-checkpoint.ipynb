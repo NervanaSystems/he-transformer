{
 "cells": [
  {
   "cell_type": "code",
   "execution_count": 1,
   "metadata": {},
   "outputs": [],
   "source": [
    "import numpy as np\n",
    "import matplotlib.pyplot as plt\n",
    "from matplotlib.ticker import ScalarFormatter\n",
    "from datetime import datetime\n",
    "import re\n",
    "\n",
    "%matplotlib inline"
   ]
  },
  {
   "cell_type": "code",
   "execution_count": 2,
   "metadata": {},
   "outputs": [],
   "source": [
    "def parse_results(file_name):\n",
    "\n",
    "    re_time = r'.*Total time (.*) \\(ms\\)'\n",
    "    \n",
    "    runtime = None\n",
    "    with open(file_name) as f:\n",
    "        lines = [line.strip() for line in f.readlines()]\n",
    "        for line in lines:\n",
    "            #print(line)\n",
    "            if re.match(re_time, line):\n",
    "                match = re.match(re_time, line)\n",
    "                runtime = float(match.groups()[0])\n",
    "                \n",
    "    if runtime is None:\n",
    "        print('could not find runtime in ', file_name)\n",
    "    assert(runtime is not None)\n",
    "    \n",
    "    return runtime\n"
   ]
  },
  {
   "cell_type": "code",
   "execution_count": 3,
   "metadata": {},
   "outputs": [
    {
     "name": "stdout",
     "output_type": "stream",
     "text": [
      "1 & \\xmark & LAN & 1024 & 2.72 & 2.79 \\pm 0.06 \\tabularnewline\n",
      "1 & \\cmark & LAN & 2048 & 1.44 & 2.94 \\pm 0.04 \\tabularnewline\n",
      "32 & \\cmark & LAN & 2048 & 0.24 & 0.49 \\pm 0.03 \\tabularnewline\n",
      "32 & \\cmark & WAN & 2048 & 0.33 & 0.67 \\pm 0.05 \\tabularnewline\n"
     ]
    }
   ],
   "source": [
    "def make_cryptonets_relu_table():\n",
    "\n",
    "    folder = './results/'\n",
    "    omp1_complex_times = []\n",
    "    omp1_times = []\n",
    "    wan_times = []\n",
    "    clientless32_times = []\n",
    "\n",
    "\n",
    "    for i in range(1,11):\n",
    "        # LAN with different threads\n",
    "        #filename = folder + 'nt_32_' + str(i) + '.txt'\n",
    "        filename = folder + 'wan_' + str(i) + '.txt'\n",
    "        times = parse_results(filename)\n",
    "        wan_times.append(times)\n",
    "\n",
    "    for i in range(1,11):   \n",
    "        omp1_complex_file = folder + 'omp1_complex_' + str(i) + '.txt'\n",
    "        omp1_complex_time = parse_results(omp1_complex_file)\n",
    "        omp1_complex_times.append(omp1_complex_time)\n",
    "\n",
    "    for i in range(1,11):\n",
    "        omp1_file = folder + 'omp1_' + str(i) + '.txt'\n",
    "        omp1_time = parse_results(omp1_file)\n",
    "        omp1_times.append(omp1_time)\n",
    "\n",
    "    for i in range(1,11):\n",
    "        clientless32_file = folder + 'clientless_nt32_' + str(i) + '.txt'\n",
    "        clientless32_time = parse_results(clientless32_file)\n",
    "        clientless32_times.append(clientless32_time)        \n",
    "\n",
    "    def fmt_line(times, batch_size):\n",
    "        times_sec = [time / 1000. for time in times]\n",
    "        amortized_time_ms = np.round(np.mean(times) / batch_size, 2)\n",
    "\n",
    "        ret = str(batch_size) + ' & ' +\\\n",
    "              str(amortized_time_ms) + ' & ' +\\\n",
    "              str(np.round(np.mean(times_sec), 2)) +\\\n",
    "            ' \\pm ' + str(np.round(np.std(times_sec), 2)) +\\\n",
    "            ' \\\\tabularnewline'\n",
    "        return ret\n",
    "    \n",
    "    \n",
    "    table_row1 = '1 & \\\\xmark & LAN & ' + fmt_line(omp1_times, 1024) + '\\n'\n",
    "    table_row2 = '1 & \\\\cmark & LAN & ' + fmt_line(omp1_complex_times, 2048) + '\\n'\n",
    "    table_row3 = '32 & \\\\cmark & LAN & ' + fmt_line(clientless32_times, 2048) + '\\n'\n",
    "    table_row4 = '32 & \\\\cmark & WAN & ' + fmt_line(wan_times, 2048)\n",
    "    \n",
    "    table_str = table_row1 + table_row2 + table_row3 + table_row4\n",
    "    print(table_str)\n",
    "\n",
    "    #print('omp1_times')\n",
    "    #print(fmt_line(omp1_times, 1024))\n",
    "\n",
    "    #print('omp1_complex_times')\n",
    "    #print(fmt_line(omp1_complex_times, 2048))\n",
    "\n",
    "    #print('omp32_times')\n",
    "    #print(fmt_line(omp32_times, 2048))\n",
    "\n",
    "    #print('clientless32_times')\n",
    "    #print(fmt_line(clientless32_times, 2048))\n",
    "\n",
    "make_cryptonets_relu_table()"
   ]
  },
  {
   "cell_type": "code",
   "execution_count": 29,
   "metadata": {},
   "outputs": [],
   "source": [
    "def make_table(best_times, omp1_times, naive_times):\n",
    "    return"
   ]
  },
  {
   "cell_type": "code",
   "execution_count": 24,
   "metadata": {},
   "outputs": [],
   "source": [
    "for i in range(1,11):\n",
    "    omp1_file = folder + 'omp1_' + str(i) + '.txt'\n",
    "    omp1_time = parse_results(omp1_file)\n",
    "    omp1_times.append(omp1_time)"
   ]
  },
  {
   "cell_type": "code",
   "execution_count": null,
   "metadata": {},
   "outputs": [],
   "source": []
  }
 ],
 "metadata": {
  "kernelspec": {
   "display_name": "Python 3",
   "language": "python",
   "name": "python3"
  },
  "language_info": {
   "codemirror_mode": {
    "name": "ipython",
    "version": 3
   },
   "file_extension": ".py",
   "mimetype": "text/x-python",
   "name": "python",
   "nbconvert_exporter": "python",
   "pygments_lexer": "ipython3",
   "version": "3.7.2"
  }
 },
 "nbformat": 4,
 "nbformat_minor": 2
}

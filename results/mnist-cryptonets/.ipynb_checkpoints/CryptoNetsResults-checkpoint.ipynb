{
 "cells": [
  {
   "cell_type": "code",
   "execution_count": 1,
   "metadata": {},
   "outputs": [],
   "source": [
    "import numpy as np\n",
    "import matplotlib.pyplot as plt\n",
    "from matplotlib.ticker import ScalarFormatter\n",
    "from datetime import datetime\n",
    "import re\n",
    "\n",
    "%matplotlib inline"
   ]
  },
  {
   "cell_type": "code",
   "execution_count": 2,
   "metadata": {},
   "outputs": [],
   "source": [
    "def parse_results(file_name):\n",
    "    re_time = r'.*Total time (.*) \\(ms\\)'\n",
    "    runtime = None\n",
    "    with open(file_name) as f:\n",
    "        lines = [line.strip() for line in f.readlines()]\n",
    "        for line in lines:\n",
    "            #print(line)\n",
    "            if re.match(re_time, line):\n",
    "                match = re.match(re_time, line)\n",
    "                runtime = float(match.groups()[0])\n",
    "                \n",
    "    assert(runtime is not None)\n",
    "    \n",
    "    return runtime\n"
   ]
  },
  {
   "cell_type": "code",
   "execution_count": 10,
   "metadata": {},
   "outputs": [
    {
     "name": "stdout",
     "output_type": "stream",
     "text": [
      "naive times\n",
      "68.92 & $282.31 \\pm 4.92$ \\tabularnewline\n",
      "threaded times\n",
      "1 & 8.3 & $33.99 \\pm 0.47$ \\tabularnewline\n",
      "2 & 4.6 & $18.83 \\pm 0.23$ \\tabularnewline\n",
      "4 & 2.36 & $9.65 \\pm 0.19$ \\tabularnewline\n",
      "8 & 1.26 & $5.15 \\pm 0.04$ \\tabularnewline\n",
      "16 & 0.64 & $2.63 \\pm 0.03$ \\tabularnewline\n",
      "32 & 0.55 & $2.24 \\pm 0.19$ \\tabularnewline\n",
      "56 & 0.6 & $2.44 \\pm 0.21$ \\tabularnewline\n"
     ]
    }
   ],
   "source": [
    "folder = './results/'\n",
    "best_times = []\n",
    "\n",
    "\n",
    "num_threads = [1, 2, 4, 8, 16, 32, 56]\n",
    "thread_runtimes = {}\n",
    "for nt in num_threads:\n",
    "    thread_runtimes[nt] = []\n",
    "\n",
    "omp1_times = []\n",
    "naive_times = []\n",
    "for i in range(1,11):\n",
    "    naive_file = folder + 'naive_recsaling_' + str(i) + '.txt'\n",
    "    naive_time = parse_results(naive_file)\n",
    "    naive_times.append(naive_time)\n",
    "    \n",
    "for nt in num_threads:\n",
    "    for i in range(1,11):\n",
    "        filename = folder + 'best_nt' + str(nt) + '_' + str(i) + '.txt'\n",
    "        runtime = parse_results(filename)\n",
    "        thread_runtimes[nt].append(runtime)\n",
    "    \n",
    "def fmt_rescaling_line(times):\n",
    "    batch_size = 4096.\n",
    "    times_sec = [time / 1000. for time in times]\n",
    "    amortized_time_ms = np.round(np.mean(times) / batch_size, 2)\n",
    "    \n",
    "    ret = str(amortized_time_ms) + ' & '\n",
    "    ret += '$' +str(np.round(np.mean(times_sec), 2)) + ' \\pm ' + str(np.round(np.std(times_sec), 2)) + '$ \\\\tabularnewline'\n",
    "    return ret\n",
    "\n",
    "def fmt_threading_line(nt, times):\n",
    "    batch_size = 4096.\n",
    "    times_sec = [time / 1000. for time in times]\n",
    "    amortized_time_ms = np.round(np.mean(times) / batch_size, 2)\n",
    "    \n",
    "    ret = str(nt) + ' & ' +str(amortized_time_ms) + ' & '\n",
    "    ret += '$' +str(np.round(np.mean(times_sec), 2)) + ' \\pm ' + str(np.round(np.std(times_sec), 2)) + '$ \\\\tabularnewline'\n",
    "    return ret\n",
    "\n",
    "print('naive times')\n",
    "print(fmt_rescaling_line(naive_times))\n",
    "\n",
    "print('threaded times')\n",
    "for nt in num_threads:\n",
    "    print(fmt_threading_line(nt, thread_runtimes[nt]))"
   ]
  },
  {
   "cell_type": "code",
   "execution_count": 50,
   "metadata": {},
   "outputs": [],
   "source": [
    "def plot_threaded_runtimes(thread_runtimes):\n",
    "    nts = sorted(thread_runtimes.keys())\n",
    "    times = np.log2([np.mean(thread_runtimes[nt])/1000. for nt in nts])\n",
    "    x_nts = np.log2(nts)\n",
    "    x_labels = nts\n",
    "    \n",
    "    plt.plot(x_nts, times)\n",
    "    plt.xlabel('# Threads')\n",
    "    plt.xticks(x_nts, nts)\n",
    "\n",
    "    y_ticks = [1, 2, 3, 4, 5]\n",
    "    y_labels = [2**y for y in y_ticks]\n",
    "    plt.yticks(y_ticks, y_labels)\n",
    "    plt.ylabel('Runtime (s)')\n",
    "    plt.title('Latency')\n",
    "    plt.savefig('cryptonets_runtime_vs_threads.png')    "
   ]
  },
  {
   "cell_type": "code",
   "execution_count": 51,
   "metadata": {},
   "outputs": [
    {
     "data": {
      "image/png": "[encoded data removed]",
      "text/plain": [
       "<Figure size 432x288 with 1 Axes>"
      ]
     },
     "metadata": {
      "needs_background": "light"
     },
     "output_type": "display_data"
    }
   ],
   "source": [
    "plot_threaded_runtimes(thread_runtimes)"
   ]
  }
 ],
 "metadata": {
  "kernelspec": {
   "display_name": "Python 3",
   "language": "python",
   "name": "python3"
  },
  "language_info": {
   "codemirror_mode": {
    "name": "ipython",
    "version": 3
   },
   "file_extension": ".py",
   "mimetype": "text/x-python",
   "name": "python",
   "nbconvert_exporter": "python",
   "pygments_lexer": "ipython3",
   "version": "3.7.2"
  }
 },
 "nbformat": 4,
 "nbformat_minor": 2
}

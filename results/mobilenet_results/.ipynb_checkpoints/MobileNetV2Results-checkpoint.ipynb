{
 "cells": [
  {
   "cell_type": "code",
   "execution_count": 1,
   "metadata": {},
   "outputs": [],
   "source": [
    "import numpy as np\n",
    "import matplotlib.pyplot as plt\n",
    "from matplotlib.ticker import ScalarFormatter\n",
    "from datetime import datetime\n",
    "import re\n",
    "\n",
    "%matplotlib inline"
   ]
  },
  {
   "cell_type": "code",
   "execution_count": 2,
   "metadata": {},
   "outputs": [],
   "source": [
    "def parse_results(file_name):\n",
    "\n",
    "    re_time = r'.*Total time (.*) \\(ms\\)'\n",
    "    \n",
    "    runtime = None\n",
    "    with open(file_name) as f:\n",
    "        lines = [line.strip() for line in f.readlines()]\n",
    "        for line in lines:\n",
    "            #print(line)\n",
    "            if re.match(re_time, line):\n",
    "                match = re.match(re_time, line)\n",
    "                runtime = float(match.groups()[0])\n",
    "                \n",
    "    if runtime is None:\n",
    "        print('could not find runtime in ', file_name)\n",
    "    assert(runtime is not None)\n",
    "    \n",
    "    return runtime\n"
   ]
  },
  {
   "cell_type": "code",
   "execution_count": 3,
   "metadata": {},
   "outputs": [
    {
     "name": "stdout",
     "output_type": "stream",
     "text": [
      "best_times\n",
      "104.95 & $214.93 \\pm 7.84$ \\tabularnewline\n"
     ]
    }
   ],
   "source": [
    "folder = './results/'\n",
    "best_times = []\n",
    "omp1_complex_times = []\n",
    "omp1_times = []\n",
    "for i in range(1,11):\n",
    "    best_file = folder + 'best_' + str(i) + '.txt'\n",
    "    best_time = parse_results(best_file)\n",
    "    best_times.append(best_time)\n",
    "    \n",
    "if False:\n",
    "    for i in range(1,11):   \n",
    "        omp1_complex_file = folder + 'omp1_complex_' + str(i) + '.txt'\n",
    "        omp1_complex_time = parse_results(omp1_complex_file)\n",
    "        omp1_complex_times.append(omp1_complex_time)\n",
    "\n",
    "    for i in range(1,11):\n",
    "        omp1_file = folder + 'omp1_' + str(i) + '.txt'\n",
    "        omp1_time = parse_results(omp1_file)\n",
    "        omp1_times.append(omp1_time)\n",
    "\n",
    "\n",
    "def fmt_line(times, batch_size):\n",
    "    times_sec = [time / 1000. for time in times]\n",
    "    amortized_time_ms = np.round(np.mean(times) / batch_size, 2)\n",
    "\n",
    "    ret = str(amortized_time_ms) + ' & '\n",
    "    ret += '$' +str(np.round(np.mean(times_sec), 2)) + ' \\pm ' + str(np.round(np.std(times_sec), 2)) + '$ \\\\tabularnewline'\n",
    "    return ret\n",
    "\n",
    "if False:\n",
    "    print('omp1_times')\n",
    "    print(fmt_line(omp1_times, 1024))\n",
    "\n",
    "    print('omp1_complex_times')\n",
    "    print(fmt_line(omp1_complex_times, 2048))\n",
    "\n",
    "print('best_times')\n",
    "print(fmt_line(best_times, 2048))\n"
   ]
  },
  {
   "cell_type": "code",
   "execution_count": 29,
   "metadata": {},
   "outputs": [],
   "source": [
    "def make_table(best_times, omp1_times, naive_times):\n",
    "    return"
   ]
  },
  {
   "cell_type": "code",
   "execution_count": 24,
   "metadata": {},
   "outputs": [],
   "source": [
    "for i in range(1,11):\n",
    "    omp1_file = folder + 'omp1_' + str(i) + '.txt'\n",
    "    omp1_time = parse_results(omp1_file)\n",
    "    omp1_times.append(omp1_time)"
   ]
  },
  {
   "cell_type": "markdown",
   "metadata": {},
   "source": [
    "# TF accuracies"
   ]
  },
  {
   "cell_type": "code",
   "execution_count": 4,
   "metadata": {},
   "outputs": [],
   "source": [
    "def parse_tf_accuracies(file_name):\n",
    "\n",
    "    re_top1 = r'top1_acc (.*)'\n",
    "    re_top5 = r'top5_acc (.*)'\n",
    "    \n",
    "    top1_acc = None\n",
    "    top5_acc = None\n",
    "    \n",
    "    runtime = None\n",
    "    with open(file_name) as f:\n",
    "        lines = [line.strip() for line in f.readlines()]\n",
    "        for line in lines:\n",
    "            #print(line)\n",
    "            if re.match(re_top1, line):\n",
    "                match = re.match(re_top1, line)\n",
    "                top1_acc = float(match.groups()[0])\n",
    "            elif re.match(re_top5, line):\n",
    "                match = re.match(re_top5, line)\n",
    "                top5_acc = float(match.groups()[0])\n",
    "                \n",
    "    if top1_acc is None:\n",
    "        print('could not find top1_acc in ', file_name)\n",
    "    if top5_acc is None:\n",
    "        print('could not find top5_acc in ', file_name)\n",
    "    assert(top1_acc is not None)\n",
    "    assert(top5_acc is not None)\n",
    "    \n",
    "    return (top1_acc, top5_acc)\n"
   ]
  },
  {
   "cell_type": "code",
   "execution_count": 51,
   "metadata": {},
   "outputs": [],
   "source": [
    "def get_tf_accuracies(image_sizes, expansion_factors):\n",
    "    folder = './results/'\n",
    "\n",
    "    accuracies = {}\n",
    "\n",
    "    for factor in expansion_factors:\n",
    "        accuracies[factor] = {}\n",
    "\n",
    "        for size in image_sizes:\n",
    "            suffix = 'acc_' + factor + '_' + str(size) + '.txt'\n",
    "            filename = folder + suffix\n",
    "            top1, top5 = parse_tf_accuracies(filename)\n",
    "\n",
    "            accuracies[factor][size] = {}\n",
    "            accuracies[factor][size][1] = top1\n",
    "            accuracies[factor][size][5] = top5\n",
    "\n",
    "    print(accuracies)\n",
    "    return accuracies"
   ]
  },
  {
   "cell_type": "code",
   "execution_count": 52,
   "metadata": {},
   "outputs": [],
   "source": [
    "def make_tf_accuracies_table(accuracies, image_sizes, expansion_factors):\n",
    "    for factor in expansion_factors:\n",
    "        for size in image_sizes:\n",
    "            factor_str = factor.replace('0', '0.', 1)\n",
    "            model_name = factor_str + '-' + str(size)\n",
    "            model_name = model_name.replace('0-','-')\n",
    "            top1 = np.round(accuracies[factor][size][1], 1)\n",
    "            top5 = np.round(accuracies[factor][size][5], 1)\n",
    "            \n",
    "            table_str = model_name + ' & ' + str(top1) \\\n",
    "                                   + ' & ' + str(top5) \\\n",
    "                                   + ' & ' + ' & \\\\\\\\ ' \n",
    "            \n",
    "            \n",
    "            print(table_str)"
   ]
  },
  {
   "cell_type": "code",
   "execution_count": 53,
   "metadata": {},
   "outputs": [
    {
     "name": "stdout",
     "output_type": "stream",
     "text": [
      "{'035': {96: {1: 42.37, 5: 67.106}, 128: {1: 50.032, 5: 74.382}, 160: {1: 56.202, 5: 79.73}, 192: {1: 58.582, 5: 81.252}, 224: {1: 60.384, 5: 82.75}}, '050': {96: {1: 48.462, 5: 73.12}, 128: {1: 56.326, 5: 79.604}, 160: {1: 60.422, 5: 82.896}, 192: {1: 63.686, 5: 85.158}, 224: {1: 65.53, 5: 86.368}}}\n",
      "0.35-96 & 42.4 & 67.1 &  & \\\\ \n",
      "0.35-128 & 50.0 & 74.4 &  & \\\\ \n",
      "0.35-160 & 56.2 & 79.7 &  & \\\\ \n",
      "0.35-192 & 58.6 & 81.3 &  & \\\\ \n",
      "0.35-224 & 60.4 & 82.8 &  & \\\\ \n",
      "0.5-96 & 48.5 & 73.1 &  & \\\\ \n",
      "0.5-128 & 56.3 & 79.6 &  & \\\\ \n",
      "0.5-160 & 60.4 & 82.9 &  & \\\\ \n",
      "0.5-192 & 63.7 & 85.2 &  & \\\\ \n",
      "0.5-224 & 65.5 & 86.4 &  & \\\\ \n"
     ]
    }
   ],
   "source": [
    "image_sizes = [96, 128, 160, 192, 224]\n",
    "expansion_factors = ['035','050', '075']\n",
    "\n",
    "accuracies = get_tf_accuracies(image_sizes, expansion_factors)\n",
    "make_tf_accuracies_table(accuracies, image_sizes, expansion_factors)"
   ]
  },
  {
   "cell_type": "code",
   "execution_count": null,
   "metadata": {},
   "outputs": [],
   "source": []
  }
 ],
 "metadata": {
  "kernelspec": {
   "display_name": "Python 3",
   "language": "python",
   "name": "python3"
  },
  "language_info": {
   "codemirror_mode": {
    "name": "ipython",
    "version": 3
   },
   "file_extension": ".py",
   "mimetype": "text/x-python",
   "name": "python",
   "nbconvert_exporter": "python",
   "pygments_lexer": "ipython3",
   "version": "3.7.2"
  }
 },
 "nbformat": 4,
 "nbformat_minor": 2
}

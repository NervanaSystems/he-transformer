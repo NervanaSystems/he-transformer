{
 "cells": [
  {
   "cell_type": "code",
   "execution_count": 1,
   "metadata": {},
   "outputs": [],
   "source": [
    "import numpy as np\n",
    "import matplotlib.pyplot as plt\n",
    "from matplotlib.ticker import ScalarFormatter\n",
    "from datetime import datetime\n",
    "import re\n",
    "\n",
    "%matplotlib inline"
   ]
  },
  {
   "cell_type": "code",
   "execution_count": 2,
   "metadata": {},
   "outputs": [],
   "source": [
    "def parse_results(file_name):\n",
    "\n",
    "    re_time = r'.*Total time (.*) \\(ms\\)'\n",
    "    \n",
    "    runtime = None\n",
    "    with open(file_name) as f:\n",
    "        lines = [line.strip() for line in f.readlines()]\n",
    "        for line in lines:\n",
    "            #print(line)\n",
    "            if re.match(re_time, line):\n",
    "                match = re.match(re_time, line)\n",
    "                runtime = float(match.groups()[0])\n",
    "                \n",
    "    if runtime is None:\n",
    "        print('could not find runtime in ', file_name)\n",
    "    assert(runtime is not None)\n",
    "    \n",
    "    return runtime\n"
   ]
  },
  {
   "cell_type": "code",
   "execution_count": 3,
   "metadata": {},
   "outputs": [
    {
     "name": "stdout",
     "output_type": "stream",
     "text": [
      "best_times\n",
      "104.95 & $214.93 \\pm 7.84$ \\tabularnewline\n"
     ]
    }
   ],
   "source": [
    "folder = './results/'\n",
    "best_times = []\n",
    "omp1_complex_times = []\n",
    "omp1_times = []\n",
    "for i in range(1,11):\n",
    "    best_file = folder + 'best_' + str(i) + '.txt'\n",
    "    best_time = parse_results(best_file)\n",
    "    best_times.append(best_time)\n",
    "    \n",
    "if False:\n",
    "    for i in range(1,11):   \n",
    "        omp1_complex_file = folder + 'omp1_complex_' + str(i) + '.txt'\n",
    "        omp1_complex_time = parse_results(omp1_complex_file)\n",
    "        omp1_complex_times.append(omp1_complex_time)\n",
    "\n",
    "    for i in range(1,11):\n",
    "        omp1_file = folder + 'omp1_' + str(i) + '.txt'\n",
    "        omp1_time = parse_results(omp1_file)\n",
    "        omp1_times.append(omp1_time)\n",
    "\n",
    "\n",
    "def fmt_line(times, batch_size):\n",
    "    times_sec = [time / 1000. for time in times]\n",
    "    amortized_time_ms = np.round(np.mean(times) / batch_size, 2)\n",
    "\n",
    "    ret = str(amortized_time_ms) + ' & '\n",
    "    ret += '$' +str(np.round(np.mean(times_sec), 2)) + ' \\pm ' + str(np.round(np.std(times_sec), 2)) + '$ \\\\tabularnewline'\n",
    "    return ret\n",
    "\n",
    "if False:\n",
    "    print('omp1_times')\n",
    "    print(fmt_line(omp1_times, 1024))\n",
    "\n",
    "    print('omp1_complex_times')\n",
    "    print(fmt_line(omp1_complex_times, 2048))\n",
    "\n",
    "print('best_times')\n",
    "print(fmt_line(best_times, 2048))\n"
   ]
  },
  {
   "cell_type": "code",
   "execution_count": 29,
   "metadata": {},
   "outputs": [],
   "source": [
    "def make_table(best_times, omp1_times, naive_times):\n",
    "    return"
   ]
  },
  {
   "cell_type": "code",
   "execution_count": 24,
   "metadata": {},
   "outputs": [],
   "source": [
    "for i in range(1,11):\n",
    "    omp1_file = folder + 'omp1_' + str(i) + '.txt'\n",
    "    omp1_time = parse_results(omp1_file)\n",
    "    omp1_times.append(omp1_time)"
   ]
  },
  {
   "cell_type": "code",
   "execution_count": null,
   "metadata": {},
   "outputs": [],
   "source": []
  }
 ],
 "metadata": {
  "kernelspec": {
   "display_name": "Python 3",
   "language": "python",
   "name": "python3"
  },
  "language_info": {
   "codemirror_mode": {
    "name": "ipython",
    "version": 3
   },
   "file_extension": ".py",
   "mimetype": "text/x-python",
   "name": "python",
   "nbconvert_exporter": "python",
   "pygments_lexer": "ipython3",
   "version": "3.7.2"
  }
 },
 "nbformat": 4,
 "nbformat_minor": 2
}

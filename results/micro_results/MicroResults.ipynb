{
 "cells": [
  {
   "cell_type": "code",
   "execution_count": 1,
   "metadata": {},
   "outputs": [],
   "source": [
    "import numpy as np\n",
    "import matplotlib.pyplot as plt\n",
    "from matplotlib.ticker import ScalarFormatter\n",
    "from datetime import datetime\n",
    "import re\n",
    "\n",
    "%matplotlib inline"
   ]
  },
  {
   "cell_type": "code",
   "execution_count": 2,
   "metadata": {},
   "outputs": [],
   "source": [
    "def parse_micro(file_name):\n",
    "    poly_mods = [4096, 8192, 16384]\n",
    "    coeff_lens = [1, 3, 8]\n",
    "    \n",
    "        \n",
    "    re_time_seal_encode_avg = r'time_seal_encode_avg \\(ns\\) (.*)'\n",
    "    re_time_he_encode_avg = r'time_he_encode_avg \\(ns\\) (.*)'\n",
    "    \n",
    "    re_time_seal_add_avg = r'time_seal_add_plain_avg \\(ns\\) (.*)'\n",
    "    re_time_he_add_avg = r'time_he_add_plain_avg \\(ns\\) (.*)'\n",
    "    \n",
    "    re_time_seal_mult_avg = r'time_seal_multiply_plain_avg \\(ns\\) (.*)'\n",
    "    re_time_he_mult_avg = r'time_he_multiply_plain_avg \\(ns\\) (.*)'\n",
    "    \n",
    "    re_poly_mod = r'.*poly_modulus_degree: (.*)'\n",
    " \n",
    "    seal_encode_times = {}\n",
    "    he_encode_times = {}\n",
    "    seal_add_times = {}\n",
    "    he_add_times = {}\n",
    "    seal_mult_times = {}\n",
    "    he_mult_times = {}\n",
    "\n",
    "    \n",
    "    with open(file_name) as f:\n",
    "        lines = [line.strip() for line in f.readlines()]\n",
    "        for line in lines:\n",
    "            #print(line)\n",
    "            if re.match(re_poly_mod, line):\n",
    "                match = re.match(re_poly_mod, line)\n",
    "                poly_mod = int(match.groups()[0])\n",
    "            # Encode\n",
    "            elif re.match(re_time_seal_encode_avg, line):\n",
    "                match = re.match(re_time_seal_encode_avg, line)\n",
    "                encode_time = float(match.groups()[0])\n",
    "                seal_encode_times[poly_mod] = encode_time\n",
    "            elif re.match(re_time_he_encode_avg, line):\n",
    "                match = re.match(re_time_he_encode_avg, line)\n",
    "                encode_time = float(match.groups()[0])\n",
    "                he_encode_times[poly_mod] = encode_time\n",
    "            \n",
    "            # Add\n",
    "            elif re.match(re_time_seal_add_avg, line):\n",
    "                match = re.match(re_time_seal_add_avg, line)\n",
    "                encode_time = float(match.groups()[0])\n",
    "                seal_add_times[poly_mod] = encode_time\n",
    "            elif re.match(re_time_he_add_avg, line):\n",
    "                match = re.match(re_time_he_add_avg, line)\n",
    "                encode_time = float(match.groups()[0])\n",
    "                he_add_times[poly_mod] = encode_time\n",
    "          \n",
    "            # Mult\n",
    "            elif re.match(re_time_seal_mult_avg, line):\n",
    "                match = re.match(re_time_seal_mult_avg, line)\n",
    "                encode_time = float(match.groups()[0])\n",
    "                seal_mult_times[poly_mod] = encode_time\n",
    "            elif re.match(re_time_he_mult_avg, line):\n",
    "                match = re.match(re_time_he_mult_avg, line)\n",
    "                encode_time = float(match.groups()[0])\n",
    "                he_mult_times[poly_mod] = encode_time\n",
    "                                          \n",
    "            \n",
    "    print('seal_encode_times', seal_encode_times)\n",
    "    print('he_encode_times', he_encode_times)\n",
    "    \n",
    "    print('seal_add_times', seal_add_times)\n",
    "    print('he_add_times', he_add_times)\n",
    "    \n",
    "    print('seal_mult_times', seal_mult_times)\n",
    "    print('he_mult_times', he_mult_times)\n",
    "    \n",
    "           \n",
    "    \n",
    "    return (seal_encode_times, he_encode_times, seal_add_times, he_add_times, seal_mult_times, he_mult_times)"
   ]
  },
  {
   "cell_type": "code",
   "execution_count": 3,
   "metadata": {},
   "outputs": [],
   "source": [
    "def make_add_table(seal_enc_times, he_enc_times):\n",
    "    Ns = [4096, 8192, 16384]\n",
    "    Ls = [1, 3, 8]\n",
    "    \n",
    "    # Runtime in ms\n",
    "    header_str = r'''\n",
    "\\begin{tabular}{ c c c c c c }\n",
    "\\toprule\n",
    "\\multirow{2}{*}{$\\boldsymbol N$} & \\multirow{2}{*}{$\\boldsymbol L$} & \\multicolumn{2}{c}{\\textbf{Runtime (ms)}} \\\\ \\cmidrule{3-4}\n",
    "& & \\centering \\textbf{General} & \\centering \\textbf{Scalar} & \\centering{\\textbf{Speedup}}\n",
    "\\tabularnewline\n",
    "\\midrule'''\n",
    "\n",
    "    table_str = header_str\n",
    "    for (N, L) in zip(Ns, Ls):\n",
    "        # convert to micro seconds\n",
    "        he_time = np.round(he_add_times[N] / 1000., 1)\n",
    "        seal_time = np.round(seal_add_times[N] / 1000., 1)\n",
    "        speedup = np.round(seal_time / float(he_time),1)\n",
    "        table_str += '$2^{' + str(int(np.log2(N))) + '}$ & ' + str(L) + ' & ' + str(seal_time) + ' & ' \\\n",
    "                        + str(he_time) + ' & ' + str(speedup) + ' \\\\tabularnewline\\n'\n",
    "    \n",
    "    print(table_str)"
   ]
  },
  {
   "cell_type": "code",
   "execution_count": 6,
   "metadata": {},
   "outputs": [],
   "source": [
    "def make_mult_table(seal_enc_times, he_enc_times):\n",
    "    Ns = [8192, 16384]\n",
    "    Ls = [3, 8]\n",
    "    \n",
    "    # Runtime in ms\n",
    "    header_str = r'''\n",
    "\\begin{tabular}{ c c c c c c }\n",
    "\\toprule\n",
    "\\multirow{2}{*}{$\\boldsymbol N$} & \\multirow{2}{*}{$\\boldsymbol L$} & \\multicolumn{2}{c}{\\textbf{Runtime (ms)}} \\\\ \\cmidrule{3-4}\n",
    "& & \\centering \\textbf{General} & \\centering \\textbf{Scalar} & \\centering{\\textbf{Speedup}}\n",
    "\\tabularnewline\n",
    "\\midrule'''\n",
    "\n",
    "    table_str = header_str\n",
    "    for (N, L) in zip(Ns, Ls):\n",
    "        # convert to micro seconds\n",
    "        he_time = np.round(he_mult_times[N] / 1000., 1)\n",
    "        seal_time = np.round(seal_mult_times[N] / 1000., 1)\n",
    "        speedup = np.round(seal_time / float(he_time),1)\n",
    "        table_str += '$2^{' + str(int(np.log2(N))) + '}$ & ' + str(L) + ' & ' + str(seal_time) + ' & ' \\\n",
    "                        + str(he_time) + ' & ' + str(speedup) + ' \\\\tabularnewline\\n'\n",
    "    \n",
    "    \n",
    "    print(table_str)"
   ]
  },
  {
   "cell_type": "code",
   "execution_count": 5,
   "metadata": {},
   "outputs": [
    {
     "name": "stdout",
     "output_type": "stream",
     "text": [
      "seal_encode_times {4096: 570.0, 8192: 3004.0, 16384: 27880.0}\n",
      "he_encode_times {4096: 367.0, 8192: 404.0, 16384: 706.0}\n",
      "seal_add_times {4096: 2356.0, 8192: 12735.0, 16384: 120804.0}\n",
      "he_add_times {4096: 949.0, 8192: 4553.0, 16384: 29230.0}\n",
      "seal_mult_times {4096: 0.0, 8192: 182599.0, 16384: 983490.0}\n",
      "he_mult_times {4096: 0.0, 8192: 71900.0, 16384: 386740.0}\n",
      "\n",
      "\\begin{tabular}{ c c c c c c }\n",
      "\\toprule\n",
      "\\multirow{2}{*}{$\\boldsymbol N$} & \\multirow{2}{*}{$\\boldsymbol L$} & \\multicolumn{2}{c}{\\textbf{Runtime (ms)}} \\\\ \\cmidrule{3-4}\n",
      "& & \\centering \\textbf{General} & \\centering \\textbf{Scalar} & \\centering{\\textbf{Speedup}}\n",
      "\\tabularnewline\n",
      "\\midrule$2^{12}$ & 1 & 2.4 & 0.9 & 2.7 \\tabularnewline\n",
      "$2^{13}$ & 3 & 12.7 & 4.6 & 2.8 \\tabularnewline\n",
      "$2^{14}$ & 8 & 120.8 & 29.2 & 4.1 \\tabularnewline\n",
      "\n"
     ]
    }
   ],
   "source": [
    "(seal_encode_times, he_encode_times, seal_add_times, he_add_times, seal_mult_times, he_mult_times) = parse_micro('./perf_micro.txt')\n",
    "make_add_table(seal_add_times, he_add_times)"
   ]
  },
  {
   "cell_type": "code",
   "execution_count": 7,
   "metadata": {},
   "outputs": [
    {
     "name": "stdout",
     "output_type": "stream",
     "text": [
      "\n",
      "\\begin{tabular}{ c c c c c c }\n",
      "\\toprule\n",
      "\\multirow{2}{*}{$\\boldsymbol N$} & \\multirow{2}{*}{$\\boldsymbol L$} & \\multicolumn{2}{c}{\\textbf{Runtime (ms)}} \\\\ \\cmidrule{3-4}\n",
      "& & \\centering \\textbf{General} & \\centering \\textbf{Scalar} & \\centering{\\textbf{Speedup}}\n",
      "\\tabularnewline\n",
      "\\midrule$2^{13}$ & 3 & 182.6 & 71.9 & 2.5 \\tabularnewline\n",
      "$2^{14}$ & 8 & 983.5 & 386.7 & 2.5 \\tabularnewline\n",
      "\n"
     ]
    }
   ],
   "source": [
    "make_mult_table(seal_add_times, he_add_times)"
   ]
  },
  {
   "cell_type": "code",
   "execution_count": null,
   "metadata": {},
   "outputs": [],
   "source": []
  }
 ],
 "metadata": {
  "kernelspec": {
   "display_name": "Python 3",
   "language": "python",
   "name": "python3"
  },
  "language_info": {
   "codemirror_mode": {
    "name": "ipython",
    "version": 3
   },
   "file_extension": ".py",
   "mimetype": "text/x-python",
   "name": "python",
   "nbconvert_exporter": "python",
   "pygments_lexer": "ipython3",
   "version": "3.7.2"
  }
 },
 "nbformat": 4,
 "nbformat_minor": 2
}

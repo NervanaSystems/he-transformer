{
 "cells": [
  {
   "cell_type": "code",
   "execution_count": 7,
   "metadata": {},
   "outputs": [],
   "source": [
    "import numpy as np\n",
    "import matplotlib.pyplot as plt\n",
    "import time\n",
    "import numpy as np\n",
    "import re\n",
    "\n",
    "%matplotlib inline"
   ]
  },
  {
   "cell_type": "code",
   "execution_count": 66,
   "metadata": {},
   "outputs": [],
   "source": [
    "def parse_runtimes(filename):\n",
    "    \n",
    "    op_timer = r'.* (.*) took (.*)ms'\n",
    "    \n",
    "    op_map = {'Total':0}\n",
    "    \n",
    "    def base_op(op_name):\n",
    "        base_op_name = op_name.split('_', 1)[0]\n",
    "        base_op_name = base_op_name.split('\\t',1)[1]\n",
    "        return base_op_name\n",
    "    \n",
    "    with open(filename) as f:\n",
    "        lines = [line.strip() for line in f.readlines()]\n",
    "        for line in lines:\n",
    "            if re.match(op_timer, line):\n",
    "                match = re.match(op_timer, line)\n",
    "                op = match.groups()[0]\n",
    "                time_ms = int(match.groups()[1])\n",
    "                time_s = time_ms / 1000.\n",
    "                base_op_name = base_op(op)\n",
    "                if base_op_name in op_map:\n",
    "                    op_map[base_op_name] += time_s\n",
    "                else: \n",
    "                    op_map[base_op_name] = time_s\n",
    "                op_map['Total'] += time_s\n",
    "                  \n",
    "    return op_map\n",
    "\n",
    "def plot_op_map(op_map):\n",
    "    sorted_ops = sorted(op_map.items(), key=lambda kv: kv[1])\n",
    "    print('sorted_ops',sorted_ops)\n",
    "    \n",
    "    times = [op[1] for op in sorted_ops]\n",
    "    ops = [op[0] for op in sorted_ops]\n",
    "    x_coords = range(len(ops))\n",
    "    \n",
    "    plt.bar(x_coords, times, align='center', alpha=0.5)\n",
    "    plt.xticks(x_coords, ops, rotation=45)\n",
    "    plt.ylabel('Time (ms)')\n",
    "    plt.title('MobileNetV2 runtime by op')\n",
    "\n",
    "    plt.show()"
   ]
  },
  {
   "cell_type": "code",
   "execution_count": 67,
   "metadata": {},
   "outputs": [
    {
     "name": "stdout",
     "output_type": "stream",
     "text": [
      "sorted_ops [('Minimum', 0.14000000000000004), ('Concat', 0.16800000000000004), ('Constant', 0.269), ('AvgPool', 2.658), ('Result', 5.625), ('Add', 8.776), ('Multiply', 9.983000000000002), ('Convolution', 333.3299999999959), ('Relu', 382.87100000000004), ('Total', 743.8199999999896)]\n"
     ]
    },
    {
     "data": {
      "image/png": "[encoded data removed]",
      "text/plain": [
       "<Figure size 432x288 with 1 Axes>"
      ]
     },
     "metadata": {
      "needs_background": "light"
     },
     "output_type": "display_data"
    }
   ],
   "source": [
    "op_map = parse_runtimes('./runtime/765s.txt')\n",
    "plot_op_map(op_map)"
   ]
  },
  {
   "cell_type": "code",
   "execution_count": null,
   "metadata": {},
   "outputs": [],
   "source": []
  }
 ],
 "metadata": {
  "kernelspec": {
   "display_name": "Python 3",
   "language": "python",
   "name": "python3"
  },
  "language_info": {
   "codemirror_mode": {
    "name": "ipython",
    "version": 3
   },
   "file_extension": ".py",
   "mimetype": "text/x-python",
   "name": "python",
   "nbconvert_exporter": "python",
   "pygments_lexer": "ipython3",
   "version": "3.7.2"
  }
 },
 "nbformat": 4,
 "nbformat_minor": 2
}

{
 "cells": [
  {
   "cell_type": "code",
   "execution_count": 9,
   "metadata": {},
   "outputs": [],
   "source": [
    "import numpy as np\n",
    "import matplotlib.pyplot as plt\n",
    "from matplotlib.ticker import ScalarFormatter\n",
    "from datetime import datetime\n",
    "import re\n",
    "import os\n",
    "\n",
    "%matplotlib inline"
   ]
  },
  {
   "cell_type": "code",
   "execution_count": 7,
   "metadata": {},
   "outputs": [],
   "source": [
    "def parse_runtime_results(file_name):\n",
    "    total_times = []\n",
    "\n",
    "    total_timer = r'.*Total time (.*) (.*)'\n",
    "    with open(file_name) as f:\n",
    "        lines = [line.strip() for line in f.readlines()]\n",
    "        for line in lines:\n",
    "            if re.match(total_timer, line):\n",
    "                match = re.match(total_timer, line)\n",
    "                total_time = float(match.groups()[0].split()[0])/1000.                \n",
    "                #print(\"total_time\",total_time)\n",
    "                total_times.append(total_time)\n",
    "              \n",
    "                    \n",
    "    assert(len(total_times) == 11)\n",
    "    \n",
    "    return (total_times[1:])"
   ]
  },
  {
   "cell_type": "markdown",
   "metadata": {},
   "source": [
    "# BNN-BN runtimes"
   ]
  },
  {
   "cell_type": "code",
   "execution_count": 8,
   "metadata": {
    "scrolled": false
   },
   "outputs": [
    {
     "name": "stdout",
     "output_type": "stream",
     "text": [
      "row1_times [61.816, 60.073, 55.977, 55.419, 54.18, 54.532, 54.056, 55.397, 56.583, 58.761]\n",
      "row2_times [55.758, 53.343, 52.189, 52.528, 52.141, 51.714, 52.441, 51.92, 53.44, 52.352]\n",
      "row3_times [20.7, 18.153, 17.7, 16.826, 16.869, 16.801, 16.718, 16.888, 17.131, 16.951]\n",
      "56.7 \\pm 2.5 & \\\\\n",
      "52.8 \\pm 1.1 & \\\\\n",
      "17.5 \\pm 1.2 & \\\\\n"
     ]
    }
   ],
   "source": [
    "row1_times = parse_runtime_results( './runtimes/BNN_BN_row1.txt')\n",
    "row2_times = parse_runtime_results( './runtimes/BNN_BN_row2.txt')\n",
    "row3_times = parse_runtime_results( './runtimes/BNN_BN_row3.txt')\n",
    "\n",
    "print('row1_times', row1_times)\n",
    "print('row2_times', row2_times)\n",
    "print('row3_times', row3_times)\n",
    "\n",
    "def fmt_times(times):\n",
    "    round_width = 1\n",
    "    mu = np.round(np.mean(times), round_width)\n",
    "    std = np.round(np.std(times),round_width)\n",
    "    \n",
    "    return str(mu) + ' \\pm ' + str(std)\n",
    "\n",
    "print(fmt_times(row1_times) + ' & \\\\\\\\')\n",
    "print(fmt_times(row2_times) + ' & \\\\\\\\')\n",
    "print(fmt_times(row3_times) + ' & \\\\\\\\')\n"
   ]
  },
  {
   "cell_type": "markdown",
   "metadata": {},
   "source": [
    "# BNN-BN results"
   ]
  },
  {
   "cell_type": "code",
   "execution_count": null,
   "metadata": {},
   "outputs": [],
   "source": [
    "def parse_accuracy_results(file_name):\n",
    "    total_times = []\n",
    "\n",
    "    total_timer = r'.*Total time (.*) (.*)'\n",
    "    with open(file_name) as f:\n",
    "        lines = [line.strip() for line in f.readlines()]\n",
    "        for line in lines:\n",
    "            if re.match(total_timer, line):\n",
    "                match = re.match(total_timer, line)\n",
    "                total_time = float(match.groups()[0].split()[0])/1000.                \n",
    "                #print(\"total_time\",total_time)\n",
    "                total_times.append(total_time)\n",
    "              \n",
    "                    \n",
    "    assert(len(total_times) == 11)\n",
    "    \n",
    "    return (total_times[1:])"
   ]
  },
  {
   "cell_type": "code",
   "execution_count": 24,
   "metadata": {},
   "outputs": [],
   "source": [
    "accs = os.popen('grep -B 1 -rn \"Training finished.\" ./accuracies/*txt | grep \"test accuracy\" | cut -d \" \" -f 3').read()\n",
    "\n",
    "accs = [100*float(x) for x in accs.split()]\n",
    "\n"
   ]
  },
  {
   "cell_type": "code",
   "execution_count": 26,
   "metadata": {},
   "outputs": [
    {
     "name": "stdout",
     "output_type": "stream",
     "text": [
      "96.9 \\pm 0.5\n"
     ]
    }
   ],
   "source": [
    "def fmt_table_row(acc):\n",
    "    round_width = 2\n",
    "    mu = np.round(np.mean(acc), round_width)\n",
    "    std = np.round(np.std(acc),round_width)\n",
    "    \n",
    "    return str(mu) + ' \\pm ' + str(std)\n",
    "\n",
    "print(fmt_table_row(accs))"
   ]
  },
  {
   "cell_type": "code",
   "execution_count": null,
   "metadata": {},
   "outputs": [],
   "source": []
  }
 ],
 "metadata": {
  "kernelspec": {
   "display_name": "Python 3",
   "language": "python",
   "name": "python3"
  },
  "language_info": {
   "codemirror_mode": {
    "name": "ipython",
    "version": 3
   },
   "file_extension": ".py",
   "mimetype": "text/x-python",
   "name": "python",
   "nbconvert_exporter": "python",
   "pygments_lexer": "ipython3",
   "version": "3.7.2"
  }
 },
 "nbformat": 4,
 "nbformat_minor": 2
}

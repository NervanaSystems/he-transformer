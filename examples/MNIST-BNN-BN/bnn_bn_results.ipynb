{
 "cells": [
  {
   "cell_type": "code",
   "execution_count": 1,
   "metadata": {},
   "outputs": [],
   "source": [
    "import numpy as np\n",
    "import matplotlib.pyplot as plt\n",
    "from matplotlib.ticker import ScalarFormatter\n",
    "from datetime import datetime\n",
    "import re\n",
    "import os\n",
    "\n",
    "%matplotlib inline"
   ]
  },
  {
   "cell_type": "code",
   "execution_count": 2,
   "metadata": {},
   "outputs": [],
   "source": [
    "def parse_runtime_results(file_name):\n",
    "    total_times = []\n",
    "\n",
    "    total_timer = r'.*Total time (.*) (.*)'\n",
    "    with open(file_name) as f:\n",
    "        lines = [line.strip() for line in f.readlines()]\n",
    "        for line in lines:\n",
    "            if re.match(total_timer, line):\n",
    "                match = re.match(total_timer, line)\n",
    "                total_time = float(match.groups()[0].split()[0])/1000.                \n",
    "                #print(\"total_time\",total_time)\n",
    "                total_times.append(total_time)\n",
    "              \n",
    "                    \n",
    "    #assert(len(total_times) == 11)\n",
    "    \n",
    "    return (total_times[1:])"
   ]
  },
  {
   "cell_type": "markdown",
   "metadata": {},
   "source": [
    "# BNN-BN runtimes"
   ]
  },
  {
   "cell_type": "code",
   "execution_count": 3,
   "metadata": {
    "scrolled": false
   },
   "outputs": [
    {
     "name": "stdout",
     "output_type": "stream",
     "text": [
      "row1_times [56.098, 60.419, 55.494, 53.494, 52.503, 53.253, 53.359, 54.091, 55.732, 57.194]\n",
      "row2_times [48.567, 45.199, 44.919, 45.957, 44.962, 44.351, 42.727, 45.638, 45.097, 44.661]\n",
      "row3_times [17.256, 13.756, 14.706, 14.314, 15.025, 15.011, 14.571, 14.461, 14.744, 14.301]\n",
      "55.2 \\pm 2.3 & \\\\\n",
      "45.2 \\pm 1.4 & \\\\\n",
      "14.8 \\pm 0.9 & \\\\\n"
     ]
    }
   ],
   "source": [
    "row1_times = parse_runtime_results( './runtimes/BNN_BN_row1.txt')\n",
    "row2_times = parse_runtime_results( './runtimes/BNN_BN_row2.txt')\n",
    "row3_times = parse_runtime_results( './runtimes/BNN_BN_row3.txt')\n",
    "\n",
    "print('row1_times', row1_times)\n",
    "print('row2_times', row2_times)\n",
    "print('row3_times', row3_times)\n",
    "\n",
    "\n",
    "def fmt_times(times):\n",
    "    round_width = 1\n",
    "    mu = np.round(np.mean(times), round_width)\n",
    "    std = np.round(np.std(times),round_width)\n",
    "    \n",
    "    return str(mu) + ' \\pm ' + str(std)\n",
    "\n",
    "print(fmt_times(row1_times) + ' & \\\\\\\\')\n",
    "print(fmt_times(row2_times) + ' & \\\\\\\\')\n",
    "print(fmt_times(row3_times) + ' & \\\\\\\\')\n"
   ]
  },
  {
   "cell_type": "markdown",
   "metadata": {},
   "source": [
    "# BNN-BN results"
   ]
  },
  {
   "cell_type": "code",
   "execution_count": 4,
   "metadata": {},
   "outputs": [],
   "source": [
    "def parse_accuracy_results(file_name):\n",
    "    total_times = []\n",
    "\n",
    "    total_timer = r'.*Total time (.*) (.*)'\n",
    "    with open(file_name) as f:\n",
    "        lines = [line.strip() for line in f.readlines()]\n",
    "        for line in lines:\n",
    "            if re.match(total_timer, line):\n",
    "                match = re.match(total_timer, line)\n",
    "                total_time = float(match.groups()[0].split()[0])/1000.                \n",
    "                #print(\"total_time\",total_time)\n",
    "                total_times.append(total_time)\n",
    "              \n",
    "                    \n",
    "    assert(len(total_times) == 11)\n",
    "    \n",
    "    return (total_times[1:])"
   ]
  },
  {
   "cell_type": "code",
   "execution_count": 7,
   "metadata": {},
   "outputs": [
    {
     "name": "stdout",
     "output_type": "stream",
     "text": [
      "[96.98, 97.25, 96.76, 97.31, 95.66, 96.99, 96.98, 97.24000000000001, 97.26, 96.86]\n"
     ]
    }
   ],
   "source": [
    "accs = os.popen('grep -B 1 -rn \"Training finished.\" ./accuracies/*txt | grep \"test accuracy\" | cut -d \" \" -f 3').read()\n",
    "accs = [100*float(x) for x in accs.split()]\n",
    "print(accs)"
   ]
  },
  {
   "cell_type": "code",
   "execution_count": 10,
   "metadata": {},
   "outputs": [
    {
     "name": "stdout",
     "output_type": "stream",
     "text": [
      "96.9 \\pm 0.5\n"
     ]
    }
   ],
   "source": [
    "def fmt_table_row(acc):\n",
    "    round_width = 1\n",
    "    mu = np.round(np.mean(acc), round_width)\n",
    "    std = np.round(np.std(acc),round_width)\n",
    "    return str(mu) + ' \\pm ' + str(std)\n",
    "\n",
    "print(fmt_table_row(accs))"
   ]
  },
  {
   "cell_type": "code",
   "execution_count": null,
   "metadata": {},
   "outputs": [],
   "source": []
  }
 ],
 "metadata": {
  "kernelspec": {
   "display_name": "Python 3",
   "language": "python",
   "name": "python3"
  },
  "language_info": {
   "codemirror_mode": {
    "name": "ipython",
    "version": 3
   },
   "file_extension": ".py",
   "mimetype": "text/x-python",
   "name": "python",
   "nbconvert_exporter": "python",
   "pygments_lexer": "ipython3",
   "version": "3.7.2"
  }
 },
 "nbformat": 4,
 "nbformat_minor": 2
}

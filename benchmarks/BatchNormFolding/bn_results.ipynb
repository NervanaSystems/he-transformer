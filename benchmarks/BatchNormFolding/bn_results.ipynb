{
 "cells": [
  {
   "cell_type": "code",
   "execution_count": 2,
   "metadata": {},
   "outputs": [],
   "source": [
    "import numpy as np\n",
    "import matplotlib.pyplot as plt\n",
    "from matplotlib.ticker import ScalarFormatter\n",
    "from datetime import datetime\n",
    "import re\n",
    "\n",
    "%matplotlib inline"
   ]
  },
  {
   "cell_type": "code",
   "execution_count": 3,
   "metadata": {},
   "outputs": [],
   "source": [
    "def parse_results_from_python_file(file_name):\n",
    "    \n",
    "    conv_timer = r'.*Convolution.* took (.*)ms'\n",
    "    bn_timer = r'.*BatchNormInference.* took (.*)ms'\n",
    "    add_timer = r'.*Add.* took (.*)ms'\n",
    "\n",
    "    total_timer = r'.*Total time (.*) (.*)'\n",
    "    total_times = []\n",
    "    conv_times = []\n",
    "    add_times = []\n",
    "    bn_times = []\n",
    "\n",
    "    batch_size_count = 0\n",
    "    with open(file_name) as f:\n",
    "        lines = [line.strip() for line in f.readlines()]\n",
    "        for line in lines:\n",
    "            if re.match(total_timer, line):\n",
    "                match = re.match(total_timer, line)\n",
    "                total_time = float(match.groups()[0].split()[0])/1000.                \n",
    "                #print(\"total_time\",total_time)\n",
    "                total_times.append(total_time)\n",
    "            elif re.match(conv_timer, line):\n",
    "                match = re.match(conv_timer, line)\n",
    "                conv_time = float(match.groups()[0].split()[0])/1000.\n",
    "                #print(\"conv_time\",conv_time)\n",
    "                conv_times.append(conv_time)\n",
    "            elif re.match(add_timer, line):\n",
    "                match = re.match(add_timer, line)\n",
    "                add_time = float(match.groups()[0])/1000.\n",
    "                #print(\"add_time\",add_time)\n",
    "                add_times.append(add_time)\n",
    "            elif re.match(bn_timer, line):\n",
    "                match = re.match(bn_timer, line)\n",
    "                bn_time = float(match.groups()[0])/1000.\n",
    "                #print(\"bn_time\",bn_time)\n",
    "                bn_times.append(bn_time)           \n",
    "                    \n",
    "    assert(len(total_times) == 2)\n",
    "    assert(len(conv_times) == 2)\n",
    "    assert(len(bn_times) == 1)\n",
    "    assert(len(add_times) == 1)\n",
    "    \n",
    "    return (conv_times[0], bn_times[0], total_times[0]), (conv_times[1], add_times[0], total_times[1])"
   ]
  },
  {
   "cell_type": "markdown",
   "metadata": {},
   "source": [
    "# 8192 BN results"
   ]
  },
  {
   "cell_type": "code",
   "execution_count": 25,
   "metadata": {
    "scrolled": false
   },
   "outputs": [
    {
     "name": "stdout",
     "output_type": "stream",
     "text": [
      "orig_conv_times [32.86, 32.739, 32.756, 33.898, 32.751, 32.795, 34.107, 33.867, 33.466, 33.571]\n",
      "opt_conv_times [32.698, 32.518, 32.559, 33.373, 32.544, 32.572, 33.24, 34.871, 32.989, 33.219]\n",
      "$2^{13}$ & \\cmark & 1 & 33.06 $\\pm$ 0.68  & 0.06 $\\pm$ 0.0  & 33.16 $\\pm$ 0.68  \\\\ \\hline\n"
     ]
    }
   ],
   "source": [
    "orig_conv_times = []\n",
    "orig_bn_times = []\n",
    "orig_total_times = []\n",
    "opt_conv_times = []\n",
    "opt_bn_times = []\n",
    "opt_total_times = []\n",
    "\n",
    "for i in range(10):\n",
    "    filename = './results/exp8192_' + str(i+1) + '.txt'\n",
    "    orig_times, opt_times = parse_results_from_python_file(filename)\n",
    "    orig_conv_times.append(orig_times[0])\n",
    "    orig_bn_times.append(orig_times[1])\n",
    "    orig_total_times.append(orig_times[2])\n",
    "\n",
    "    opt_conv_times.append(opt_times[0])\n",
    "    opt_bn_times.append(opt_times[1])\n",
    "    opt_total_times.append(opt_times[2])\n",
    "\n",
    "print('orig_conv_times', orig_conv_times)\n",
    "print('opt_conv_times', opt_conv_times)\n",
    "\n",
    "round_width=2\n",
    "\n",
    "print('$2^{13}$ & \\\\cmark & 1 & ', end='')\n",
    "print(np.round(np.mean(opt_conv_times), round_width),'$\\pm$',np.round(np.std(opt_conv_times),round_width),' & ',end='')\n",
    "print(np.round(np.mean(opt_bn_times), round_width),'$\\pm$',np.round(np.std(opt_bn_times),round_width),' & ', end='')\n",
    "print(np.round(np.mean(opt_total_times), round_width),'$\\pm$',np.round(np.std(opt_total_times),round_width), ' \\\\\\\\ \\hline')"
   ]
  },
  {
   "cell_type": "markdown",
   "metadata": {},
   "source": [
    "# 16384 BN results"
   ]
  },
  {
   "cell_type": "code",
   "execution_count": 26,
   "metadata": {},
   "outputs": [
    {
     "name": "stdout",
     "output_type": "stream",
     "text": [
      "orig_conv_times [129.258, 131.763, 133.202, 130.755, 131.432, 130.678, 131.358, 130.165, 130.558, 129.138]\n",
      "opt_conv_times [128.766, 131.146, 133.712, 128.785, 129.92, 130.077, 132.449, 131.036, 131.121, 128.721]\n",
      "$2^{14}$ & \\xmark & 2 & 130.83 $\\pm$ 1.14  & 6.28 $\\pm$ 0.12  & 137.24 $\\pm$ 1.21  \\\\ \n",
      "$2^{14}$ & \\cmark & 1 & 130.57 $\\pm$ 1.57  & 0.25 $\\pm$ 0.01  & 130.97 $\\pm$ 1.57  \\\\\n"
     ]
    }
   ],
   "source": [
    "orig_conv_times = []\n",
    "orig_bn_times = []\n",
    "orig_total_times = []\n",
    "opt_conv_times = []\n",
    "opt_bn_times = []\n",
    "opt_total_times = []\n",
    "\n",
    "for i in range(10):\n",
    "    filename = './results/exp16384_' + str(i+1) + '.txt'\n",
    "    orig_times, opt_times = parse_results_from_python_file(filename)\n",
    "    orig_conv_times.append(orig_times[0])\n",
    "    orig_bn_times.append(orig_times[1])\n",
    "    orig_total_times.append(orig_times[2])\n",
    "\n",
    "    opt_conv_times.append(opt_times[0])\n",
    "    opt_bn_times.append(opt_times[1])\n",
    "    opt_total_times.append(opt_times[2])\n",
    "\n",
    "print('orig_conv_times', orig_conv_times)\n",
    "print('opt_conv_times', opt_conv_times)\n",
    "\n",
    "round_width=2\n",
    "\n",
    "print('$2^{14}$ & \\\\xmark & 2 & ', end='')\n",
    "print(np.round(np.mean(orig_conv_times), round_width),'$\\pm$',np.round(np.std(orig_conv_times),round_width),' & ',end='')\n",
    "print(np.round(np.mean(orig_bn_times), round_width),'$\\pm$',np.round(np.std(orig_bn_times),round_width),' & ', end='')\n",
    "print(np.round(np.mean(orig_total_times), round_width),'$\\pm$',np.round(np.std(orig_total_times),round_width), ' \\\\\\\\ ')\n",
    "\n",
    "print('$2^{14}$ & \\\\cmark & 1 & ', end='')\n",
    "print(np.round(np.mean(opt_conv_times), round_width),'$\\pm$',np.round(np.std(opt_conv_times),round_width),' & ',end='')\n",
    "print(np.round(np.mean(opt_bn_times), round_width),'$\\pm$',np.round(np.std(opt_bn_times),round_width),' & ', end='')\n",
    "print(np.round(np.mean(opt_total_times), round_width),'$\\pm$',np.round(np.std(opt_total_times),round_width), ' \\\\\\\\')"
   ]
  },
  {
   "cell_type": "code",
   "execution_count": null,
   "metadata": {},
   "outputs": [],
   "source": []
  }
 ],
 "metadata": {
  "kernelspec": {
   "display_name": "Python 3",
   "language": "python",
   "name": "python3"
  },
  "language_info": {
   "codemirror_mode": {
    "name": "ipython",
    "version": 3
   },
   "file_extension": ".py",
   "mimetype": "text/x-python",
   "name": "python",
   "nbconvert_exporter": "python",
   "pygments_lexer": "ipython3",
   "version": "3.7.2"
  }
 },
 "nbformat": 4,
 "nbformat_minor": 2
}

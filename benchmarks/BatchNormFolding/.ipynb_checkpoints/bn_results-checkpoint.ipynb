{
 "cells": [
  {
   "cell_type": "code",
   "execution_count": 1,
   "metadata": {},
   "outputs": [],
   "source": [
    "import numpy as np\n",
    "import matplotlib.pyplot as plt\n",
    "from matplotlib.ticker import ScalarFormatter\n",
    "from datetime import datetime\n",
    "import re\n",
    "\n",
    "%matplotlib inline"
   ]
  },
  {
   "cell_type": "code",
   "execution_count": 132,
   "metadata": {},
   "outputs": [],
   "source": [
    "def parse_results_from_python_file(file_name):\n",
    "    \n",
    "    conv_timer = r'.*Convolution.* took (.*)ms'\n",
    "    bn_timer = r'.*BatchNormInference.* took (.*)ms'\n",
    "    add_timer = r'.*Add.* took (.*)ms'\n",
    "\n",
    "    total_timer = r'.*Total time (.*) (.*)'\n",
    "    total_times = []\n",
    "    conv_times = []\n",
    "    add_times = []\n",
    "    bn_times = []\n",
    "\n",
    "    batch_size_count = 0\n",
    "    with open(file_name) as f:\n",
    "        lines = [line.strip() for line in f.readlines()]\n",
    "        for line in lines:\n",
    "            if re.match(total_timer, line):\n",
    "                match = re.match(total_timer, line)\n",
    "                total_time = float(match.groups()[0].split()[0])/1000.                \n",
    "                #print(\"total_time\",total_time)\n",
    "                total_times.append(total_time)\n",
    "            elif re.match(conv_timer, line):\n",
    "                match = re.match(conv_timer, line)\n",
    "                conv_time = float(match.groups()[0].split()[0])/1000.\n",
    "                #print(\"conv_time\",conv_time)\n",
    "                conv_times.append(conv_time)\n",
    "            elif re.match(add_timer, line):\n",
    "                match = re.match(add_timer, line)\n",
    "                add_time = float(match.groups()[0])/1000.\n",
    "                #print(\"add_time\",add_time)\n",
    "                add_times.append(add_time)\n",
    "            elif re.match(bn_timer, line):\n",
    "                match = re.match(bn_timer, line)\n",
    "                bn_time = float(match.groups()[0])/1000.\n",
    "                #print(\"bn_time\",bn_time)\n",
    "                bn_times.append(bn_time)           \n",
    "                    \n",
    "    assert(len(total_times) == 2)\n",
    "    assert(len(conv_times) == 2)\n",
    "    assert(len(bn_times) == 1)\n",
    "    assert(len(add_times) == 1)\n",
    "    \n",
    "    return (conv_times[0], bn_times[0], total_times[0]), (conv_times[1], add_times[0], total_times[1])"
   ]
  },
  {
   "cell_type": "markdown",
   "metadata": {},
   "source": [
    "# BN results"
   ]
  },
  {
   "cell_type": "code",
   "execution_count": 138,
   "metadata": {
    "scrolled": true
   },
   "outputs": [
    {
     "name": "stdout",
     "output_type": "stream",
     "text": [
      "orig_conv_times [249.883, 248.062, 234.575, 230.489, 231.135, 232.038, 236.335, 235.813, 237.385, 231.236]\n",
      "opt_conv_times [269.691, 272.217, 289.797, 248.114, 279.012, 360.353, 279.977, 258.995, 272.646, 251.587]\n",
      "\\centering{\\xmark} & 2 & \\centering{ 236.7 $\\pm$ 6.6 } & \\centering{ 10.4 $\\pm$ 0.6 } & \\  247.2 $\\pm$ 6.6  \\\\ \n",
      "\\centering{\\cmark} & 1 & \\centering{ 278.2 $\\pm$ 30.0 } & \\centering{ 1.9 $\\pm$ 0.1 } & \\  280.7 $\\pm$ 30.0  \\\\ \\hline\n"
     ]
    }
   ],
   "source": [
    "orig_conv_times = []\n",
    "orig_bn_times = []\n",
    "orig_total_times = []\n",
    "opt_conv_times = []\n",
    "opt_bn_times = []\n",
    "opt_total_times = []\n",
    "\n",
    "for i in range(10):\n",
    "    filename = './exp_' + str(i+1) + '.txt'\n",
    "    orig_times, opt_times = parse_results_from_python_file(filename)\n",
    "    orig_conv_times.append(orig_times[0])\n",
    "    orig_bn_times.append(orig_times[1])\n",
    "    orig_total_times.append(orig_times[2])\n",
    "\n",
    "    opt_conv_times.append(opt_times[0])\n",
    "    opt_bn_times.append(opt_times[1])\n",
    "    opt_total_times.append(opt_times[2])\n",
    "\n",
    "print('orig_conv_times', orig_conv_times)\n",
    "print('opt_conv_times', opt_conv_times)\n",
    "\n",
    "print('\\\\centering{\\\\xmark} & 2 & ', end='')\n",
    "print('\\\\centering{',np.round(np.mean(orig_conv_times), 1),'$\\pm$',np.round(np.std(orig_conv_times),1),'} & ',end='')\n",
    "print('\\\\centering{',np.round(np.mean(orig_bn_times), 1),'$\\pm$',np.round(np.std(orig_bn_times),1),'} & ', end='')\n",
    "print('\\ ',np.round(np.mean(orig_total_times), 1),'$\\pm$',np.round(np.std(orig_total_times),1), ' \\\\\\\\ ')\n",
    "\n",
    "print('\\\\centering{\\\\cmark} & 1 & ', end='')\n",
    "print('\\\\centering{',np.round(np.mean(opt_conv_times), 1),'$\\pm$',np.round(np.std(opt_conv_times),1),'} & ',end='')\n",
    "print('\\\\centering{',np.round(np.mean(opt_bn_times), 1),'$\\pm$',np.round(np.std(opt_bn_times),1),'} & ', end='')\n",
    "print('\\ ',np.round(np.mean(opt_total_times), 1),'$\\pm$',np.round(np.std(opt_total_times),1), ' \\\\\\\\ \\hline')\n",
    "    \n",
    "    "
   ]
  },
  {
   "cell_type": "code",
   "execution_count": null,
   "metadata": {},
   "outputs": [],
   "source": []
  }
 ],
 "metadata": {
  "kernelspec": {
   "display_name": "Python 3",
   "language": "python",
   "name": "python3"
  },
  "language_info": {
   "codemirror_mode": {
    "name": "ipython",
    "version": 3
   },
   "file_extension": ".py",
   "mimetype": "text/x-python",
   "name": "python",
   "nbconvert_exporter": "python",
   "pygments_lexer": "ipython3",
   "version": "3.7.1"
  }
 },
 "nbformat": 4,
 "nbformat_minor": 2
}

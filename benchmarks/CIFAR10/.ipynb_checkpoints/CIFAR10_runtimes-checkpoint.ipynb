{
 "cells": [
  {
   "cell_type": "code",
   "execution_count": 4,
   "metadata": {},
   "outputs": [],
   "source": [
    "import numpy as np\n",
    "from datetime import datetime\n",
    "import re\n",
    "import os"
   ]
  },
  {
   "cell_type": "code",
   "execution_count": 41,
   "metadata": {},
   "outputs": [],
   "source": [
    "def parse_results_from_python_file(file_name):\n",
    "\n",
    "    total_timer = r'.*Total time (.*)(ms)'\n",
    "    total_times = []\n",
    "\n",
    "    batch_size_count = 0\n",
    "    with open(file_name) as f:\n",
    "        lines = [line.strip() for line in f.readlines()]\n",
    "        for line in lines:\n",
    "            if re.match(total_timer, line):\n",
    "                match = re.match(total_timer, line)\n",
    "                total_time = float(match.groups()[0].split()[0])/1000.                \n",
    "                print(\"total_time\",total_time)\n",
    "                total_times.append(total_time)\n",
    "                    \n",
    "    assert(len(total_times) == 1)\n",
    "    \n",
    "    return total_times[0]\n",
    "\n",
    "\n",
    "def parse_results():\n",
    "    suffix =  '| xargs grep -rn \"Total time\" | cut -d \" \" -f6'\n",
    "    \n",
    "    row1 = os.popen('ls -rt NEW/cifar_L11_bnT_actT_optF_trial_*.txt' + suffix).read().split()\n",
    "    row1 = [int(x.strip())/1000. for x in row1 if x != '']\n",
    "    \n",
    "    row2 = os.popen('ls -rt NEW/cifar_L11_bnT_actT_optT_trial_*.txt' + suffix).read().split()\n",
    "    row2 = [int(x)/1000. for x in row2 if x.strip() != '']\n",
    "    \n",
    "    row3 = os.popen('ls -rt NEW/cifar_L10_bnT_actT_optT_trial_*.txt' + suffix).read().split()\n",
    "    row3 = [int(x)/1000. for x in row3 if x != '']\n",
    "    \n",
    "    row4 = os.popen('ls -rt NEW/cifar_L11_bnT_actF_optF_trial_*.txt' + suffix).read().split()\n",
    "    row4 = [int(x)/1000. for x in row4 if x != '']\n",
    "    \n",
    "    row5 = os.popen('ls -rt NEW/cifar_L11_bnT_actF_optT_trial_*.txt' + suffix).read().split()\n",
    "    row5 = [int(x)/1000. for x in row5 if x != '']\n",
    "    \n",
    "    row6 = os.popen('ls -rt NEW/cifar_L10_bnT_actF_optT_trial_*.txt' + suffix).read().split()\n",
    "    row6 = [int(x)/1000. for x in row6 if x != '']\n",
    "        \n",
    "    return row1, row2, row3, row4, row5, row6"
   ]
  },
  {
   "cell_type": "code",
   "execution_count": 67,
   "metadata": {},
   "outputs": [
    {
     "name": "stdout",
     "output_type": "stream",
     "text": [
      "([1693.526, 1663.886, 1586.429, 1597.871, 1613.569, 1638.881, 1625.748, 1674.735, 1588.675, 1595.614, 1596.018, 1597.083], [1601.745, 1609.899, 1630.613, 1699.541, 1604.889, 1576.588, 1639.839, 1642.427, 1722.161, 1639.093, 1665.48, 1583.609], [1323.929, 1358.474, 1363.709, 1321.799, 1379.29, 1378.692, 1374.952, 1346.327, 1332.476, 1323.988, 1378.644, 1366.235], [1686.353, 1622.676, 1615.206, 1697.148, 1613.284, 1609.756, 1648.559, 1603.333, 1651.363, 1665.515, 1718.797, 1730.726], [1601.755, 1671.097, 1647.054, 1625.302, 1700.796, 1625.63, 1630.506, 1708.898, 1633.415, 1664.823, 1722.664, 1645.453], [1366.095, 1396.852, 1379.986, 1360.79, 1331.931, 1357.409, 1344.851, 1367.26, 1333.679, 1354.99, 1359.307])\n",
      "10\n",
      "1628 $\\pm$ 37 & 0.199\n",
      "10\n",
      "1637 $\\pm$ 42 & 0.2\n",
      "10\n",
      "1350 $\\pm$ 22 & 0.165\n",
      "10\n",
      "1641 $\\pm$ 32 & 0.2\n",
      "10\n",
      "1651 $\\pm$ 33 & 0.202\n",
      "10\n",
      "1359 $\\pm$ 19 & 0.166\n"
     ]
    }
   ],
   "source": [
    "rows = parse_results()\n",
    "\n",
    "print(rows)\n",
    "\n",
    "for row in rows:\n",
    "    data = row[0:10]\n",
    "    print(len(data))\n",
    "    round_width = 0\n",
    "    mu = int(np.round(np.mean(data), round_width))\n",
    "    dev = int(np.round(np.std(data), round_width))\n",
    "    \n",
    "    N = 2**14\n",
    "    \n",
    "    throughput = np.round(np.mean(data) / (N/2.), 3)\n",
    "    \n",
    "    print(str(mu) + ' $\\pm$ ' + str(dev) + ' & ' + str(throughput))\n"
   ]
  },
  {
   "cell_type": "code",
   "execution_count": null,
   "metadata": {},
   "outputs": [],
   "source": []
  },
  {
   "cell_type": "code",
   "execution_count": null,
   "metadata": {},
   "outputs": [],
   "source": []
  }
 ],
 "metadata": {
  "kernelspec": {
   "display_name": "Python 3",
   "language": "python",
   "name": "python3"
  },
  "language_info": {
   "codemirror_mode": {
    "name": "ipython",
    "version": 3
   },
   "file_extension": ".py",
   "mimetype": "text/x-python",
   "name": "python",
   "nbconvert_exporter": "python",
   "pygments_lexer": "ipython3",
   "version": "3.7.2"
  }
 },
 "nbformat": 4,
 "nbformat_minor": 2
}

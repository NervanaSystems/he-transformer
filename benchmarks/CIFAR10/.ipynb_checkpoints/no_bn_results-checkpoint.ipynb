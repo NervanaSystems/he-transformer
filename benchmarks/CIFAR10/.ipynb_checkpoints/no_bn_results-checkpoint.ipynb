{
 "cells": [
  {
   "cell_type": "code",
   "execution_count": 1,
   "metadata": {},
   "outputs": [],
   "source": [
    "import numpy as np\n",
    "import matplotlib.pyplot as plt\n",
    "from matplotlib.ticker import ScalarFormatter\n",
    "from datetime import datetime\n",
    "import re\n",
    "import os\n",
    "\n",
    "%matplotlib inline"
   ]
  },
  {
   "cell_type": "code",
   "execution_count": 1,
   "metadata": {},
   "outputs": [],
   "source": [
    "def parse_results_from_python_file(file_name):\n",
    "\n",
    "    total_timer = r'.*Total time (.*)(ms)'\n",
    "    total_times = []\n",
    "\n",
    "    batch_size_count = 0\n",
    "    with open(file_name) as f:\n",
    "        lines = [line.strip() for line in f.readlines()]\n",
    "        for line in lines:\n",
    "            if re.match(total_timer, line):\n",
    "                match = re.match(total_timer, line)\n",
    "                total_time = float(match.groups()[0].split()[0])/1000.                \n",
    "                print(\"total_time\",total_time)\n",
    "                total_times.append(total_time)\n",
    "                    \n",
    "    assert(len(total_times) == 1)\n",
    "    \n",
    "    return total_times[0]\n"
   ]
  },
  {
   "cell_type": "markdown",
   "metadata": {},
   "source": [
    "# BN results"
   ]
  },
  {
   "cell_type": "code",
   "execution_count": 66,
   "metadata": {
    "scrolled": true
   },
   "outputs": [
    {
     "name": "stdout",
     "output_type": "stream",
     "text": [
      "total_time 1582.37\n",
      "total_time 1653.003\n",
      "total_time 1642.603\n",
      "total_time 1594.488\n",
      "total_time 1619.966\n",
      "total_time 1583.362\n",
      "total_time 1584.834\n",
      "total_time 1573.153\n",
      "total_time 1583.06\n",
      "total_time 1585.067\n",
      "total_time 1590.49\n",
      "total_time 1568.363\n",
      "total_time 1618.875\n",
      "total_time 1620.002\n",
      "total_time 1626.293\n",
      "total_time 1563.068\n",
      "total_time 1593.532\n",
      "total_time 1577.859\n",
      "total_time 1580.521\n",
      "total_time 1588.805\n",
      "TTF_times [1653.003, 1594.488, 1583.362, 1573.153, 1585.067, 1568.363, 1620.002, 1563.068, 1577.859, 1588.805]\n",
      "TTF_throughput [201.7825927734375, 194.6396484375, 193.281494140625, 192.0352783203125, 193.4896240234375, 191.4505615234375, 197.754150390625, 190.80419921875, 192.6097412109375, 193.9459228515625]\n",
      "TFF_times [1582.37, 1642.603, 1619.966, 1584.834, 1583.06, 1590.49, 1618.875, 1626.293, 1593.532, 1580.521]\n",
      "TFF_throughput [193.160400390625, 200.5130615234375, 197.749755859375, 193.461181640625, 193.24462890625, 194.151611328125, 197.6165771484375, 198.5220947265625, 194.52294921875, 192.9346923828125]\n",
      "\n",
      "\\centering{ 1590.7 $\\pm$ 25.6 } &  \\centering{ 194ms} \\tabularnewline \\hline \n",
      "\\centering{ 1602.3 $\\pm$ 21.3 } &  \\centering{ 196ms} \\tabularnewline \\hline \n",
      "overhead 19.468043559894866\n",
      "overhead 18.852785401676442\n"
     ]
    }
   ],
   "source": [
    "TFF_times = []\n",
    "TTF_times = []\n",
    "\n",
    "for i in range(10):\n",
    "    tff_filename = './no_bn_runtimes/exp' + str(i+1) + '_TFF.txt'\n",
    "    TFF_time = parse_results_from_python_file(tff_filename)\n",
    "    TFF_times.append(TFF_time)\n",
    "    \n",
    "    ttf_filename = './no_bn_runtimes/exp' + str(i+1) + '_TTF.txt'\n",
    "    TTF_time = parse_results_from_python_file(ttf_filename)\n",
    "    TTF_times.append(TTF_time)\n",
    "    \n",
    "N=14\n",
    "TTF_throughput = [time/2.**(N-1)*1000 for time in TTF_times]\n",
    "TFF_throughput = [time/2.**(N-1)*1000 for time in TFF_times]\n",
    "\n",
    "    \n",
    "print('TTF_times', TTF_times)\n",
    "print('TTF_throughput',TTF_throughput)\n",
    "print('TFF_times', TFF_times)\n",
    "print('TFF_throughput',TFF_throughput)\n",
    "print()\n",
    "\n",
    "round_width=2\n",
    "\n",
    "print('\\\\centering{',np.round(np.mean(TTF_times), 1),'$\\pm$',np.round(np.std(TTF_times),1),'} & ',\n",
    "      '\\\\centering{',int(np.round(np.mean(TTF_throughput), 0)), end='ms} \\\\tabularnewline \\\\hline \\n')\n",
    "print('\\\\centering{',np.round(np.mean(TFF_times), 1),'$\\pm$',np.round(np.std(TFF_times),1),'} & ',\n",
    "      '\\\\centering{',int(np.round(np.mean(TFF_throughput), 0)), end='ms} \\\\tabularnewline \\\\hline \\n')\n",
    "    \n",
    "    \n",
    "print('overhead', 100*np.mean(TTF_times) / 1331.5 - 100)\n",
    "print('overhead', 100*np.mean(TFF_times) / 1348.1 - 100)"
   ]
  },
  {
   "cell_type": "code",
   "execution_count": null,
   "metadata": {},
   "outputs": [],
   "source": []
  }
 ],
 "metadata": {
  "kernelspec": {
   "display_name": "Python 3",
   "language": "python",
   "name": "python3"
  },
  "language_info": {
   "codemirror_mode": {
    "name": "ipython",
    "version": 3
   },
   "file_extension": ".py",
   "mimetype": "text/x-python",
   "name": "python",
   "nbconvert_exporter": "python",
   "pygments_lexer": "ipython3",
   "version": "3.7.2"
  }
 },
 "nbformat": 4,
 "nbformat_minor": 2
}
